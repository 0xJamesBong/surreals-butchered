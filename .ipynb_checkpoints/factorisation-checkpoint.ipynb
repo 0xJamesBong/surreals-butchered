{
 "cells": [
  {
   "cell_type": "code",
   "execution_count": 4,
   "metadata": {},
   "outputs": [
    {
     "name": "stdout",
     "output_type": "stream",
     "text": [
      "\u001b[33mDEPRECATION: Configuring installation scheme with distutils config files is deprecated and will no longer work in the near future. If you are using a Homebrew or Linuxbrew Python, please see discussion at https://github.com/Homebrew/homebrew-core/issues/76621\u001b[0m\n",
      "Requirement already satisfied: sympy in /usr/local/lib/python3.9/site-packages (1.10.1)\n",
      "Requirement already satisfied: mpmath>=0.19 in /usr/local/lib/python3.9/site-packages (from sympy) (1.2.1)\n",
      "\u001b[33mDEPRECATION: Configuring installation scheme with distutils config files is deprecated and will no longer work in the near future. If you are using a Homebrew or Linuxbrew Python, please see discussion at https://github.com/Homebrew/homebrew-core/issues/76621\u001b[0m\n",
      "\u001b[33mWARNING: You are using pip version 21.3.1; however, version 22.2.2 is available.\n",
      "You should consider upgrading via the '/usr/local/opt/python@3.9/bin/python3.9 -m pip install --upgrade pip' command.\u001b[0m\n",
      "\u001b[33mDEPRECATION: Configuring installation scheme with distutils config files is deprecated and will no longer work in the near future. If you are using a Homebrew or Linuxbrew Python, please see discussion at https://github.com/Homebrew/homebrew-core/issues/76621\u001b[0m\n",
      "\u001b[31mERROR: Could not find a version that satisfies the requirement math (from versions: none)\u001b[0m\n",
      "\u001b[31mERROR: No matching distribution found for math\u001b[0m\n",
      "\u001b[33mWARNING: You are using pip version 21.3.1; however, version 22.2.2 is available.\n",
      "You should consider upgrading via the '/usr/local/opt/python@3.9/bin/python3.9 -m pip install --upgrade pip' command.\u001b[0m\n"
     ]
    },
    {
     "data": {
      "text/plain": [
       "{2: 1, 3: 1}"
      ]
     },
     "execution_count": 4,
     "metadata": {},
     "output_type": "execute_result"
    }
   ],
   "source": [
    "!pip3 install sympy\n",
    "!pip3 install math\n",
    "\n",
    "\n",
    "import math\n",
    "\n",
    "from sympy.ntheory import factorint\n",
    "# https://stackoverflow.com/questions/4643647/fast-prime-factorization-module\n",
    "factorint(6)\n",
    "\n"
   ]
  },
  {
   "cell_type": "code",
   "execution_count": 46,
   "metadata": {},
   "outputs": [],
   "source": [
    "\n",
    "    # def makeSVG(n=int):\n",
    "\n",
    "#     if n == 1: \n",
    "#         svg = \"<svg xmlns=\"http://www.w3.org/2000/svg\" width=\"1000\" height=\"1000\"> <ellipse cx=\"500\" cy=\"500\" rx=\"50\" ry=\"50\"></ellipse></svg>\"\n",
    "#         return(svg)\n",
    "#     if n == 1: \n",
    "    \n",
    "# makeSVG(1)"
   ]
  },
  {
   "cell_type": "code",
   "execution_count": 2,
   "metadata": {},
   "outputs": [],
   "source": [
    "def makeCircle():\n",
    "    return('<circle cx=\"5000\" cy=\"2500\" r=\"1000\"/>')\n",
    "\n",
    "def rotate(degrees, image):\n",
    "    transformHead = f'<g transform=\"rotate({degrees}, 5000,5000)\">'\n",
    "    transformTail = '</g>'\n",
    "    final = transformHead + image + transformTail\n",
    "    return final\n",
    "    \n",
    "    \n",
    "def scaleDown(scale, image):\n",
    "    scaleDownHead = f'<g transform=\"translate({(1-scale)*5000}) scale({scale})\">'\n",
    "    scaleDownTail = '</g>'\n",
    "    shape = scaleDownHead + '\\n'+ image + '\\n' + scaleDownTail\n",
    "    return shape\n",
    "\n",
    "def reflect(image):\n",
    "    leftHead = f'<g transform=\"translate(-2500)\">'\n",
    "    leftTail= '</g>'\n",
    "    rightHead = f'<g transform=\"translate(2500)\">'\n",
    "    rightTail ='</g>'\n",
    "    shape = leftHead + '\\n' + image + leftTail + '\\n'+ rightHead + '\\n' + image + '\\n' + rightTail\n",
    "    return shape\n",
    "\n",
    "\n",
    "def makePolygon(prime):\n",
    "    circle = makeCircle()\n",
    "    degrees = 360/prime\n",
    "    shape = \"\"\n",
    "    \n",
    "    # The scaling down applies only two thte circle   \n",
    "    for i in range(0,prime):\n",
    "    # First one is proper\n",
    "        incompleteShape = rotate(i*degrees, scaleDown(prime/(2*prime-1),circle))\n",
    "        shape = shape + '\\n' + incompleteShape\n",
    "    return shape\n",
    "    \n",
    "    \n",
    "def composeShape(prime, image):\n",
    "    degrees = 360/prime\n",
    "    shape = \"\"\n",
    "    for i in range(0,prime):\n",
    "    # First one is proper\n",
    "        incompleteShape = rotate(i*degrees, scaleDown((prime-1)/(2*prime+1),image))\n",
    "#         incompleteShape = rotate(i*degrees, scaleDown((prime-1)/(2*prime*prime+1),image))\n",
    "#         incompleteShape = rotate(i*degrees, scaleDown(math.log(1/(prime-2))/math.log(1/(prime)),image))\n",
    "#         incompleteShape = rotate(i*degrees, scaleDown(1/(prime-5),image))\n",
    "#         incompleteShape = rotate(i*degrees, scaleDown(prime/(2*prime-1),image))\n",
    "#         incompleteShape = rotate(i*degrees, scaleDown(1/(2-(math.log(prime)-1)),image))\n",
    "        shape = shape + '\\n' + incompleteShape\n",
    "    return shape\n",
    "\n",
    "\n",
    "def wrapCanvas(stuffInside):\n",
    "    head = '<svg  xmlns=\"http://www.w3.org/2000/svg\" width=\"10000\" height=\"10000\">'\n",
    "    tail = '</svg>'\n",
    "    wrapped = head + '\\n'+ stuffInside + '\\n' + tail\n",
    "    print(wrapped)\n",
    "    return(wrapped)\n",
    "\n",
    "# Test shapes \n",
    "# 1\n",
    "# shape = makeCircle()\n",
    "\n",
    "# 2\n",
    "shape = makePolygon(2)\n",
    "\n",
    "# # Equilateral Triangle \n",
    "# shape = makePolygon(3)\n",
    "\n",
    "# Square \n",
    "# shape = makePolygon(4)\n",
    "\n",
    "# # Pentagon\n",
    "# shape = makePolygon(5)\n",
    "\n",
    "# # Hexagon \n",
    "# shape = makePolygon(6)\n",
    "\n",
    "# # Septagon\n",
    "# shape = makePolygon(7)\n",
    "\n",
    "# # Sierpinski's triangle\n",
    "# shape = composeShape(3,(composeShape(3,composeShape(3,composeShape(3,composeShape(3,makePolygon(3)))))))\n",
    "\n",
    "# # Sierpinski's Pentagon\n",
    "# shape=composeShape(5,composeShape(5,composeShape(5,composeShape(5,makePolygon(5)))))\n",
    "\n",
    "# # Koch snowflake\n",
    "# shape = composeShape(6,composeShape(6,composeShape(6,composeShape(6,makePolygon(6)))))\n",
    "\n",
    "# # Sierpinski's Septagon\n",
    "# shape = composeShape(7,composeShape(7,composeShape(7,composeShape(7,makePolygon(7)))))\n",
    "\n",
    "# # Sierpinski's Octagon\n",
    "# shape = composeShape(8,composeShape(8,composeShape(8,composeShape(8,makePolygon(8)))))\n",
    "\n",
    "# # Prime 31 \n",
    "# shape = makePolygon(31)\n",
    "\n",
    "# # Prime 131\n",
    "# shape = makePolygon(131)\n",
    "\n",
    "# 29*13^2*3*2^2 (big to small prime odering)\n",
    "# shape = composeShape(29,composeShape(13,composeShape(13,composeShape(3,composeShape(2,makePolygon(2))))))\n",
    "\n",
    "# # 2^2*3*13^2*29\n",
    "# shape = composeShape(2,composeShape(2,composeShape(3,composeShape(13,composeShape(13,makePolygon(29))))))\n",
    "\n",
    "# Sierpinski's 131\n",
    "# shape = composeShape(131,composeShape(131,composeShape(131,composeShape(131,makePolygon(131)))))\n",
    "\n",
    "# 60 = 2^2 * 3 *5 (small to big prime ordering)\n",
    "# shape = composeShape(2,composeShape(2,composeShape(3,makePolygon(5))))\n",
    "\n",
    "# alternative 60 = 2^2 * 3 *5 (big to small prime ordering)\n",
    "# shape = composeShape(5, composeShape(3, composeShape(2, makePolygon(2))))\n",
    "\n",
    "\n",
    "# 131*5^2*3*2^2 (big to small prime odering)\n",
    "# shape = composeShape(131,composeShape(5,composeShape(5,composeShape(3,composeShape(2,makePolygon(2))))))\n",
    "\n",
    "# 3^2 * 5^2\n",
    "# shape = composeShape(5,composeShape(5,composeShape(3,makePolygon(3))))\n",
    "\n",
    "# shape = reflect(makePolygon(2))\n",
    "\n",
    "with open('./svgExperiments/pythonGenerated.svg', 'w') as f:\n",
    "    text=wrapCanvas(shape)\n",
    "    f.write(text)\n",
    "\n"
   ]
  },
  {
   "cell_type": "code",
   "execution_count": 10,
   "metadata": {},
   "outputs": [
    {
     "data": {
      "text/plain": [
       "{}"
      ]
     },
     "execution_count": 10,
     "metadata": {},
     "output_type": "execute_result"
    }
   ],
   "source": [
    "factorint(1)\n",
    "\n",
    "    "
   ]
  },
  {
   "cell_type": "code",
   "execution_count": 18,
   "metadata": {},
   "outputs": [
    {
     "name": "stdout",
     "output_type": "stream",
     "text": [
      "{2: 1}\n"
     ]
    }
   ],
   "source": [
    "def makeShapeByFactorisation(factorisation:dict):\n",
    "    shape=\"\"\n",
    "#     print(list(factorisation.keys())[0])\n",
    "#     if the number is 0\n",
    "    if factorisation=={0:1}:\n",
    "        return shape\n",
    "#     if the number is 1\n",
    "    elif factorisation=={}:\n",
    "        return ('<g transform=\"translate(0,2500)\">'+'\\n'+makeCircle()+'\\n'+'</g>')\n",
    "    else:\n",
    "        for k,v in factorisation.items(): \n",
    "            prime = k\n",
    "            power = v\n",
    "\n",
    "            if k == list(factorisation.keys())[0]:\n",
    "                for p in range(0,v):\n",
    "                    if p==0:\n",
    "                        shape=makePolygon(k)\n",
    "                    else: \n",
    "                        shape=composeShape(k,shape)\n",
    "            else:\n",
    "                for p in range(0,v):\n",
    "                    shape=composeShape(k,shape)\n",
    "        return shape\n",
    "        \n",
    "        \n",
    "#         for i in range(0,v):\n",
    "#             incompleteShape = composeShape(k,)\n",
    "#             shape=shape+\"\\n\"+\n",
    "\n",
    "# factorisation = factorint(3**2*5**2)\n",
    "# factorisation = factorint(131*5**2*3*2**2)\n",
    "factorisation = factorint(2)\n",
    "\n",
    "print(factorisation)\n",
    "shape = makeShapeByFactorisation(factorisation)\n",
    "\n",
    "with open('./svgExperiments/factorisation.svg', 'w') as f:\n",
    "    text=wrapCanvas(shape)\n",
    "    f.write(text)\n"
   ]
  },
  {
   "cell_type": "code",
   "execution_count": null,
   "metadata": {},
   "outputs": [],
   "source": []
  }
 ],
 "metadata": {
  "kernelspec": {
   "display_name": "Python 3 (ipykernel)",
   "language": "python",
   "name": "python3"
  },
  "language_info": {
   "codemirror_mode": {
    "name": "ipython",
    "version": 3
   },
   "file_extension": ".py",
   "mimetype": "text/x-python",
   "name": "python",
   "nbconvert_exporter": "python",
   "pygments_lexer": "ipython3",
   "version": "3.9.12"
  },
  "vscode": {
   "interpreter": {
    "hash": "d83db6e9ad146f14dd3ee2182126b9601989ce405c302b8c36344f756f8a136d"
   }
  }
 },
 "nbformat": 4,
 "nbformat_minor": 2
}
